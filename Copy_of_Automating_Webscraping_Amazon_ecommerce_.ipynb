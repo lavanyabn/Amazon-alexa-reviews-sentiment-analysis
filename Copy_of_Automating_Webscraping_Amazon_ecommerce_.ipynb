{
  "cells": [
    {
      "cell_type": "markdown",
      "metadata": {
        "id": "view-in-github",
        "colab_type": "text"
      },
      "source": [
        "<a href=\"https://colab.research.google.com/github/lavanyabn/Amazon-alexa-reviews-sentiment-analysis/blob/main/Copy_of_Automating_Webscraping_Amazon_ecommerce_.ipynb\" target=\"_parent\"><img src=\"https://colab.research.google.com/assets/colab-badge.svg\" alt=\"Open In Colab\"/></a>"
      ]
    },
    {
      "cell_type": "code",
      "execution_count": 2,
      "id": "9ba85b0f",
      "metadata": {
        "id": "9ba85b0f",
        "outputId": "2f96ee65-5020-4c97-d6c4-971e9655b372",
        "colab": {
          "base_uri": "https://localhost:8080/"
        }
      },
      "outputs": [
        {
          "output_type": "stream",
          "name": "stdout",
          "text": [
            "Collecting autoscraper\n",
            "  Downloading autoscraper-1.1.12-py3-none-any.whl (10 kB)\n",
            "Requirement already satisfied: lxml in /usr/local/lib/python3.7/dist-packages (from autoscraper) (4.2.6)\n",
            "Requirement already satisfied: requests in /usr/local/lib/python3.7/dist-packages (from autoscraper) (2.23.0)\n",
            "Requirement already satisfied: bs4 in /usr/local/lib/python3.7/dist-packages (from autoscraper) (0.0.1)\n",
            "Requirement already satisfied: beautifulsoup4 in /usr/local/lib/python3.7/dist-packages (from bs4->autoscraper) (4.6.3)\n",
            "Requirement already satisfied: idna<3,>=2.5 in /usr/local/lib/python3.7/dist-packages (from requests->autoscraper) (2.10)\n",
            "Requirement already satisfied: chardet<4,>=3.0.2 in /usr/local/lib/python3.7/dist-packages (from requests->autoscraper) (3.0.4)\n",
            "Requirement already satisfied: certifi>=2017.4.17 in /usr/local/lib/python3.7/dist-packages (from requests->autoscraper) (2021.10.8)\n",
            "Requirement already satisfied: urllib3!=1.25.0,!=1.25.1,<1.26,>=1.21.1 in /usr/local/lib/python3.7/dist-packages (from requests->autoscraper) (1.24.3)\n",
            "Installing collected packages: autoscraper\n",
            "Successfully installed autoscraper-1.1.12\n"
          ]
        }
      ],
      "source": [
        "!pip install autoscraper"
      ]
    },
    {
      "cell_type": "code",
      "execution_count": 4,
      "id": "c32a7625",
      "metadata": {
        "id": "c32a7625"
      },
      "outputs": [],
      "source": [
        "from autoscraper import AutoScraper"
      ]
    },
    {
      "cell_type": "code",
      "execution_count": 27,
      "id": "f1492bd8",
      "metadata": {
        "id": "f1492bd8"
      },
      "outputs": [],
      "source": [
        "amazon_url=\"https://www.amazon.in/s?k=iphones\"\n",
        "\n",
        "wanted_list=[\"₹69,900\",\"Apple iPhone 13 (128GB) - Midnight\"]"
      ]
    },
    {
      "cell_type": "markdown",
      "source": [
        ""
      ],
      "metadata": {
        "id": "Oz59B3XGWFey"
      },
      "id": "Oz59B3XGWFey"
    },
    {
      "cell_type": "markdown",
      "source": [
        ""
      ],
      "metadata": {
        "id": "rr3gRRuKV5By"
      },
      "id": "rr3gRRuKV5By"
    },
    {
      "cell_type": "code",
      "execution_count": 28,
      "id": "11cc44b8",
      "metadata": {
        "id": "11cc44b8",
        "outputId": "c192467b-eb63-4d9b-be08-b966f254eb77",
        "colab": {
          "base_uri": "https://localhost:8080/"
        }
      },
      "outputs": [
        {
          "output_type": "stream",
          "name": "stdout",
          "text": [
            "['₹59,900', '₹70,900', '₹69,900', '₹79,900', '₹46,900', '₹48,900', '₹42,999', '₹57,800', '₹1,19,900', '₹54,900', '₹65,900', '₹1,39,900', '₹73,999', '₹60,990', '₹79,490', '₹89,900', 'Apple iPhone 12 (128GB) - Blue', 'Apple iPhone 13 (128GB) - Midnight', 'Apple iPhone SE (128 GB) - Midnight (3rd Generation)', 'Apple iPhone 12 (128GB) - Black', 'Apple iPhone XR (128GB) - (Product) RED', 'Apple iPhone 13 (128GB) - Blue', 'Apple iPhone 13 (128GB) - Starlight', 'Apple iPhone 13 (128GB) - Pink', 'Apple iPhone 13 Pro (128 GB) - Alpine Green', 'Apple iPhone 12 (64GB) - Black', 'Apple iPhone 12 (64GB) - White', 'Apple iPhone 13 Pro Max (256GB) - Sierra Blue', 'Apple iPhone 13 Mini (256GB) - Midnight', 'Apple iPhone 12 (64GB) - Blue', 'Apple iPhone 12 (128GB) - White', 'Apple iPhone 13 (256GB) - (Product) RED', 'Apple iPhone 13 (128GB) - Green']\n"
          ]
        }
      ],
      "source": [
        "scraper=AutoScraper()\n",
        "result=scraper.build(amazon_url,wanted_list)\n",
        "print(result)"
      ]
    },
    {
      "cell_type": "code",
      "execution_count": 29,
      "id": "32cef483",
      "metadata": {
        "id": "32cef483",
        "outputId": "b9109f1d-cbc3-4bb2-c3d5-dbc53ddec9a5",
        "colab": {
          "base_uri": "https://localhost:8080/"
        }
      },
      "outputs": [
        {
          "output_type": "execute_result",
          "data": {
            "text/plain": [
              "{'rule_23t2': ['Apple iPhone 13 (128GB) - Midnight',\n",
              "  'Apple iPhone 12 (64GB) - White'],\n",
              " 'rule_52w5': ['Apple iPhone 13 (128GB) - Green',\n",
              "  'Apple iPhone 13 (128GB) - Midnight',\n",
              "  'Apple iPhone 13 (256GB) - (Product) RED'],\n",
              " 'rule_56kn': ['₹59,900',\n",
              "  '₹70,900',\n",
              "  '₹69,900',\n",
              "  '₹79,900',\n",
              "  '₹46,900',\n",
              "  '₹48,900',\n",
              "  '₹59,900',\n",
              "  '₹70,900',\n",
              "  '₹42,999',\n",
              "  '₹57,800',\n",
              "  '₹69,900',\n",
              "  '₹79,900',\n",
              "  '₹69,900',\n",
              "  '₹79,900',\n",
              "  '₹69,900',\n",
              "  '₹79,900',\n",
              "  '₹1,19,900',\n",
              "  '₹54,900',\n",
              "  '₹65,900',\n",
              "  '₹54,900',\n",
              "  '₹65,900',\n",
              "  '₹1,39,900',\n",
              "  '₹73,999',\n",
              "  '₹79,900',\n",
              "  '₹54,900',\n",
              "  '₹65,900',\n",
              "  '₹60,990',\n",
              "  '₹70,900',\n",
              "  '₹79,490',\n",
              "  '₹89,900'],\n",
              " 'rule_5qou': ['₹59,900',\n",
              "  '₹70,900',\n",
              "  '₹69,900',\n",
              "  '₹79,900',\n",
              "  '₹46,900',\n",
              "  '₹48,900',\n",
              "  '₹59,900',\n",
              "  '₹70,900',\n",
              "  '₹42,999',\n",
              "  '₹57,800',\n",
              "  '₹69,900',\n",
              "  '₹79,900',\n",
              "  '₹69,900',\n",
              "  '₹79,900',\n",
              "  '₹69,900',\n",
              "  '₹79,900',\n",
              "  '₹1,19,900',\n",
              "  '₹54,900',\n",
              "  '₹65,900',\n",
              "  '₹54,900',\n",
              "  '₹65,900',\n",
              "  '₹1,39,900',\n",
              "  '₹73,999',\n",
              "  '₹79,900',\n",
              "  '₹54,900',\n",
              "  '₹65,900',\n",
              "  '₹60,990',\n",
              "  '₹70,900',\n",
              "  '₹79,490',\n",
              "  '₹89,900'],\n",
              " 'rule_9ru3': ['₹69,900', '₹79,900', '₹54,900', '₹65,900'],\n",
              " 'rule_buqc': ['Apple iPhone 12 (128GB) - Blue',\n",
              "  'Apple iPhone 13 (128GB) - Midnight',\n",
              "  'Apple iPhone SE (128 GB) - Midnight (3rd Generation)',\n",
              "  'Apple iPhone 12 (128GB) - Black',\n",
              "  'Apple iPhone XR (128GB) - (Product) RED',\n",
              "  'Apple iPhone 13 (128GB) - Blue',\n",
              "  'Apple iPhone 13 (128GB) - Starlight',\n",
              "  'Apple iPhone 13 (128GB) - Pink',\n",
              "  'Apple iPhone 13 Pro (128 GB) - Alpine Green',\n",
              "  'Apple iPhone 12 (64GB) - Black',\n",
              "  'Apple iPhone 12 (64GB) - White',\n",
              "  'Apple iPhone 13 Pro Max (256GB) - Sierra Blue',\n",
              "  'Apple iPhone 13 Mini (256GB) - Midnight',\n",
              "  'Apple iPhone 12 (64GB) - Blue',\n",
              "  'Apple iPhone 12 (128GB) - White',\n",
              "  'Apple iPhone 13 (256GB) - (Product) RED'],\n",
              " 'rule_e7i8': ['₹59,900',\n",
              "  '₹70,900',\n",
              "  '₹69,900',\n",
              "  '₹79,900',\n",
              "  '₹46,900',\n",
              "  '₹48,900',\n",
              "  '₹59,900',\n",
              "  '₹70,900',\n",
              "  '₹42,999',\n",
              "  '₹57,800',\n",
              "  '₹69,900',\n",
              "  '₹79,900',\n",
              "  '₹69,900',\n",
              "  '₹79,900',\n",
              "  '₹69,900',\n",
              "  '₹79,900',\n",
              "  '₹1,19,900',\n",
              "  '₹54,900',\n",
              "  '₹65,900',\n",
              "  '₹54,900',\n",
              "  '₹65,900',\n",
              "  '₹1,39,900',\n",
              "  '₹73,999',\n",
              "  '₹79,900',\n",
              "  '₹54,900',\n",
              "  '₹65,900',\n",
              "  '₹60,990',\n",
              "  '₹70,900',\n",
              "  '₹79,490',\n",
              "  '₹89,900'],\n",
              " 'rule_gcjb': ['₹59,900',\n",
              "  '₹70,900',\n",
              "  '₹69,900',\n",
              "  '₹79,900',\n",
              "  '₹46,900',\n",
              "  '₹48,900',\n",
              "  '₹59,900',\n",
              "  '₹70,900',\n",
              "  '₹42,999',\n",
              "  '₹57,800',\n",
              "  '₹69,900',\n",
              "  '₹79,900',\n",
              "  '₹69,900',\n",
              "  '₹79,900',\n",
              "  '₹69,900',\n",
              "  '₹79,900',\n",
              "  '₹1,19,900',\n",
              "  '₹54,900',\n",
              "  '₹65,900',\n",
              "  '₹54,900',\n",
              "  '₹65,900',\n",
              "  '₹1,39,900',\n",
              "  '₹73,999',\n",
              "  '₹79,900',\n",
              "  '₹54,900',\n",
              "  '₹65,900',\n",
              "  '₹60,990',\n",
              "  '₹70,900',\n",
              "  '₹79,490',\n",
              "  '₹89,900'],\n",
              " 'rule_m4o7': ['Apple iPhone 13 (128GB) - Green',\n",
              "  'Apple iPhone 13 (128GB) - Midnight',\n",
              "  'Apple iPhone 13 (256GB) - (Product) RED'],\n",
              " 'rule_pwcz': ['Apple iPhone 12 (128GB) - Blue',\n",
              "  'Apple iPhone 13 (128GB) - Midnight',\n",
              "  'Apple iPhone SE (128 GB) - Midnight (3rd Generation)',\n",
              "  'Apple iPhone 12 (128GB) - Black',\n",
              "  'Apple iPhone XR (128GB) - (Product) RED',\n",
              "  'Apple iPhone 13 (128GB) - Blue',\n",
              "  'Apple iPhone 13 (128GB) - Starlight',\n",
              "  'Apple iPhone 13 (128GB) - Pink',\n",
              "  'Apple iPhone 13 Pro (128 GB) - Alpine Green',\n",
              "  'Apple iPhone 12 (64GB) - Black',\n",
              "  'Apple iPhone 12 (64GB) - White',\n",
              "  'Apple iPhone 13 Pro Max (256GB) - Sierra Blue',\n",
              "  'Apple iPhone 13 Mini (256GB) - Midnight',\n",
              "  'Apple iPhone 12 (64GB) - Blue',\n",
              "  'Apple iPhone 12 (128GB) - White',\n",
              "  'Apple iPhone 13 (256GB) - (Product) RED'],\n",
              " 'rule_qdym': ['₹69,900', '₹79,900', '₹54,900', '₹65,900'],\n",
              " 'rule_ypty': ['₹59,900',\n",
              "  '₹70,900',\n",
              "  '₹69,900',\n",
              "  '₹79,900',\n",
              "  '₹46,900',\n",
              "  '₹48,900',\n",
              "  '₹59,900',\n",
              "  '₹70,900',\n",
              "  '₹42,999',\n",
              "  '₹57,800',\n",
              "  '₹69,900',\n",
              "  '₹79,900',\n",
              "  '₹69,900',\n",
              "  '₹79,900',\n",
              "  '₹69,900',\n",
              "  '₹79,900',\n",
              "  '₹1,19,900',\n",
              "  '₹54,900',\n",
              "  '₹65,900',\n",
              "  '₹54,900',\n",
              "  '₹65,900',\n",
              "  '₹1,39,900',\n",
              "  '₹73,999',\n",
              "  '₹79,900',\n",
              "  '₹54,900',\n",
              "  '₹65,900',\n",
              "  '₹60,990',\n",
              "  '₹70,900',\n",
              "  '₹79,490',\n",
              "  '₹89,900'],\n",
              " 'rule_yraa': ['₹59,900',\n",
              "  '₹70,900',\n",
              "  '₹69,900',\n",
              "  '₹79,900',\n",
              "  '₹46,900',\n",
              "  '₹48,900',\n",
              "  '₹59,900',\n",
              "  '₹70,900',\n",
              "  '₹42,999',\n",
              "  '₹57,800',\n",
              "  '₹69,900',\n",
              "  '₹79,900',\n",
              "  '₹69,900',\n",
              "  '₹79,900',\n",
              "  '₹69,900',\n",
              "  '₹79,900',\n",
              "  '₹1,19,900',\n",
              "  '₹54,900',\n",
              "  '₹65,900',\n",
              "  '₹54,900',\n",
              "  '₹65,900',\n",
              "  '₹1,39,900',\n",
              "  '₹73,999',\n",
              "  '₹79,900',\n",
              "  '₹54,900',\n",
              "  '₹65,900',\n",
              "  '₹60,990',\n",
              "  '₹70,900',\n",
              "  '₹79,490',\n",
              "  '₹89,900'],\n",
              " 'rule_zb2n': ['₹59,900',\n",
              "  '₹70,900',\n",
              "  '₹69,900',\n",
              "  '₹79,900',\n",
              "  '₹46,900',\n",
              "  '₹48,900',\n",
              "  '₹59,900',\n",
              "  '₹70,900',\n",
              "  '₹42,999',\n",
              "  '₹57,800',\n",
              "  '₹69,900',\n",
              "  '₹79,900',\n",
              "  '₹69,900',\n",
              "  '₹79,900',\n",
              "  '₹69,900',\n",
              "  '₹79,900',\n",
              "  '₹1,19,900',\n",
              "  '₹54,900',\n",
              "  '₹65,900',\n",
              "  '₹54,900',\n",
              "  '₹65,900',\n",
              "  '₹1,39,900',\n",
              "  '₹73,999',\n",
              "  '₹79,900',\n",
              "  '₹54,900',\n",
              "  '₹65,900',\n",
              "  '₹60,990',\n",
              "  '₹70,900',\n",
              "  '₹79,490',\n",
              "  '₹89,900'],\n",
              " 'rule_zf2p': ['₹59,900',\n",
              "  '₹70,900',\n",
              "  '₹69,900',\n",
              "  '₹79,900',\n",
              "  '₹46,900',\n",
              "  '₹48,900',\n",
              "  '₹59,900',\n",
              "  '₹70,900',\n",
              "  '₹42,999',\n",
              "  '₹57,800',\n",
              "  '₹69,900',\n",
              "  '₹79,900',\n",
              "  '₹69,900',\n",
              "  '₹79,900',\n",
              "  '₹69,900',\n",
              "  '₹79,900',\n",
              "  '₹1,19,900',\n",
              "  '₹54,900',\n",
              "  '₹65,900',\n",
              "  '₹54,900',\n",
              "  '₹65,900',\n",
              "  '₹1,39,900',\n",
              "  '₹73,999',\n",
              "  '₹79,900',\n",
              "  '₹54,900',\n",
              "  '₹65,900',\n",
              "  '₹60,990',\n",
              "  '₹70,900',\n",
              "  '₹79,490',\n",
              "  '₹89,900']}"
            ]
          },
          "metadata": {},
          "execution_count": 29
        }
      ],
      "source": [
        "scraper.get_result_similar(amazon_url,grouped=True)"
      ]
    },
    {
      "cell_type": "code",
      "execution_count": 36,
      "id": "3b1d93c4",
      "metadata": {
        "id": "3b1d93c4"
      },
      "outputs": [],
      "source": [
        "scraper.set_rule_aliases({'rule_buqc':'Title'})\n",
        "scraper.keep_rules(['rule_buqc'])\n",
        "scraper.save('amazon-search')"
      ]
    },
    {
      "cell_type": "code",
      "execution_count": 37,
      "id": "e9f46ecb",
      "metadata": {
        "id": "e9f46ecb"
      },
      "outputs": [],
      "source": [
        "results=scraper.get_result_similar('https://www.amazon.in/s?k=mi+phones+under+15000',group_by_alias=True)"
      ]
    },
    {
      "cell_type": "code",
      "execution_count": 38,
      "id": "c6ddeb9a",
      "metadata": {
        "id": "c6ddeb9a",
        "outputId": "81660b2a-2519-4ac5-85c9-a709fe909cd1",
        "colab": {
          "base_uri": "https://localhost:8080/"
        }
      },
      "outputs": [
        {
          "output_type": "execute_result",
          "data": {
            "text/plain": [
              "['Mi Redmi -Note 7S (Onyx Black, 64GB, 4GB RAM)',\n",
              " 'MI REDMI 9i Sport (Coral Green, 64 GB) (4 GB RAM)',\n",
              " '(Renewed) Mi Max (Gold, 32GB)',\n",
              " 'Mi Redmi Note 7S (Ruby Red, 32GB, 3GB RAM)',\n",
              " 'Redmi 9i Sport (Metallic Blue, 64 GB) (4 GB RAM)',\n",
              " 'MI Redmi Note 5 Pro (Gold, 4GB RAM, 64GB Storage)',\n",
              " 'Mi Redmi -Note 7S (Sapphire Blue, 64GB, 4GB RAM)',\n",
              " '(Renewed) MI Poco M2 Pro (Two Shades of Black, 4GB RAM, 64GB Internal Storage)',\n",
              " 'MI REDMI 9i Sport (Carbon Black, 64 GB) (4 GB RAM)',\n",
              " '(Renewed) Redmi 6 Pro (Black, 3GB RAM, 32GB Storage)',\n",
              " '(Renewed) Redmi 6A (Rose Gold, 2GB RAM, 32GB Storage)',\n",
              " '(Renewed) Redmi Note 7S (Ruby Red, 64GB, 4GB RAM)',\n",
              " '(Renewed) Redmi 6A (Rose Gold, 16 GB)',\n",
              " 'Mi Redmi Note 4 (Gold, 32 GB) (With 3 GB RAM)',\n",
              " '(Renewed) Redmi 6 Pro (Gold, 4GB RAM, 64GB Storage)',\n",
              " '(Renewed) Redmi 6 Pro (Gold, 3GB RAM, 32GB Storage)']"
            ]
          },
          "metadata": {},
          "execution_count": 38
        }
      ],
      "source": [
        "results['Title']"
      ]
    },
    {
      "cell_type": "code",
      "execution_count": null,
      "id": "3ebf5d72",
      "metadata": {
        "id": "3ebf5d72"
      },
      "outputs": [],
      "source": [
        ""
      ]
    },
    {
      "cell_type": "code",
      "execution_count": null,
      "id": "d3c79518",
      "metadata": {
        "id": "d3c79518"
      },
      "outputs": [],
      "source": [
        ""
      ]
    },
    {
      "cell_type": "code",
      "execution_count": null,
      "id": "ca60befe",
      "metadata": {
        "id": "ca60befe"
      },
      "outputs": [],
      "source": [
        ""
      ]
    },
    {
      "cell_type": "code",
      "execution_count": null,
      "id": "b61b880a",
      "metadata": {
        "id": "b61b880a"
      },
      "outputs": [],
      "source": [
        ""
      ]
    }
  ],
  "metadata": {
    "kernelspec": {
      "display_name": "Python 3",
      "language": "python",
      "name": "python3"
    },
    "language_info": {
      "codemirror_mode": {
        "name": "ipython",
        "version": 3
      },
      "file_extension": ".py",
      "mimetype": "text/x-python",
      "name": "python",
      "nbconvert_exporter": "python",
      "pygments_lexer": "ipython3",
      "version": "3.7.10"
    },
    "colab": {
      "name": "Copy of Automating Webscraping Amazon ecommerce .ipynb",
      "provenance": [],
      "include_colab_link": true
    }
  },
  "nbformat": 4,
  "nbformat_minor": 5
}